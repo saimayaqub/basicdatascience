{
  "nbformat": 4,
  "nbformat_minor": 0,
  "metadata": {
    "colab": {
      "provenance": [],
      "authorship_tag": "ABX9TyPHifUG2am4wPV/GKR9cXj8",
      "include_colab_link": true
    },
    "kernelspec": {
      "name": "python3",
      "display_name": "Python 3"
    },
    "language_info": {
      "name": "python"
    }
  },
  "cells": [
    {
      "cell_type": "markdown",
      "metadata": {
        "id": "view-in-github",
        "colab_type": "text"
      },
      "source": [
        "<a href=\"https://colab.research.google.com/github/saimayaqub/basicdatascience/blob/main/data_scraping_lesson_3_extract_to_csv.ipynb\" target=\"_parent\"><img src=\"https://colab.research.google.com/assets/colab-badge.svg\" alt=\"Open In Colab\"/></a>"
      ]
    },
    {
      "cell_type": "code",
      "execution_count": 19,
      "metadata": {
        "id": "LtPT3Tw4w7vC"
      },
      "outputs": [],
      "source": [
        "import requests"
      ]
    },
    {
      "cell_type": "code",
      "source": [
        "from bs4 import BeautifulSoup # to support html parsing\n",
        "import pandas as pd # to support exporting lists data to files"
      ],
      "metadata": {
        "id": "1KRGCk8EzOd4"
      },
      "execution_count": 20,
      "outputs": []
    },
    {
      "cell_type": "code",
      "source": [
        "# Define the bookRecords list variable to store book records\n",
        "bookRecords = []\n",
        "\n",
        "#Iterate first five pages of the target URL whose data should be scraped\n",
        "for i in range(1,5):\n",
        "\n",
        "  #Insert 'next' page number in the URL on every iteration\n",
        "  url = f\"https://books.toscrape.com/catalogue/page-{i}.html\"\n",
        "\n",
        "  #Fetch complete response object returned\n",
        "  response = requests.get(url)\n",
        "\n",
        "  #Separate out only the content part leaving out all the other areas of response object\n",
        "  response = response.content\n",
        "\n",
        "  #Parse the response content into html using Beautiful Soup\n",
        "  soup = BeautifulSoup(response, \"html.parser\")\n",
        "\n",
        "  #inspect the html of the url in the browser\n",
        "  #identify the exact html tags and their parameters associated with your desired data items\n",
        "  ol = soup.find(\"ol\")\n",
        "\n",
        "  #Get all the 'article' tags with class value as 'product_pod' as bookItems as observed during  your inspection\n",
        "  bookItems = ol.find_all('article', class_ = 'product_pod')\n",
        "\n",
        "  # iterate each item to extract the title, price and ratings from each bookItem object that exists in the bookItems List\n",
        "  for bookItem in bookItems:\n",
        "    image = bookItem.find('img')\n",
        "    title = image.attrs['alt']\n",
        "    star = bookItem.find('p')\n",
        "    star = star['class'][1]\n",
        "    priceDiv = bookItem.find('div', class_ ='product_price')\n",
        "    priceValue = priceDiv.find('p', class_ ='price_color').text\n",
        "    priceValue =  priceValue[1:]\n",
        "\n",
        "    #Add another bookItem list in the global list of bookRecords\n",
        "    bookRecords.append([title,priceValue, star])"
      ],
      "metadata": {
        "id": "_tKx4DYH6MZm"
      },
      "execution_count": 27,
      "outputs": []
    },
    {
      "cell_type": "code",
      "source": [
        "#efine a data frame object containing a list of lists i.e., a whole list of the inividual bookItem records\n",
        "df = pd.DataFrame(bookRecords, columns = ['Title', 'Price', 'Star Rating'])\n",
        "\n",
        "#use to_csv to save bookRecords in a CSV file\n",
        "df.to_csv('books.csv')"
      ],
      "metadata": {
        "id": "EQAy47HHA7Fk"
      },
      "execution_count": 28,
      "outputs": []
    }
  ]
}