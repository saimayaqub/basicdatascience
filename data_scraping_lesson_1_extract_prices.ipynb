{
  "nbformat": 4,
  "nbformat_minor": 0,
  "metadata": {
    "colab": {
      "provenance": [],
      "authorship_tag": "ABX9TyOcxGIh0HJqrvWBb1+BV71Z",
      "include_colab_link": true
    },
    "kernelspec": {
      "name": "python3",
      "display_name": "Python 3"
    },
    "language_info": {
      "name": "python"
    }
  },
  "cells": [
    {
      "cell_type": "markdown",
      "metadata": {
        "id": "view-in-github",
        "colab_type": "text"
      },
      "source": [
        "<a href=\"https://colab.research.google.com/github/saimayaqub/basicdatascience/blob/main/data_scraping_lesson_1_extract_prices.ipynb\" target=\"_parent\"><img src=\"https://colab.research.google.com/assets/colab-badge.svg\" alt=\"Open In Colab\"/></a>"
      ]
    },
    {
      "cell_type": "code",
      "execution_count": 1,
      "metadata": {
        "id": "LtPT3Tw4w7vC"
      },
      "outputs": [],
      "source": [
        "import requests\n"
      ]
    },
    {
      "cell_type": "code",
      "source": [
        "from bs4 import BeautifulSoup"
      ],
      "metadata": {
        "id": "1KRGCk8EzOd4"
      },
      "execution_count": 2,
      "outputs": []
    },
    {
      "cell_type": "code",
      "source": [
        "url = \"https://books.toscrape.com/\""
      ],
      "metadata": {
        "id": "Qs1V53YnxT8T"
      },
      "execution_count": 3,
      "outputs": []
    },
    {
      "cell_type": "code",
      "source": [
        "response = requests.get(url)"
      ],
      "metadata": {
        "id": "YUH6VYeyxVmR"
      },
      "execution_count": 4,
      "outputs": []
    },
    {
      "cell_type": "code",
      "source": [
        "response = response.content"
      ],
      "metadata": {
        "id": "LxPBT-HZxgEh"
      },
      "execution_count": 5,
      "outputs": []
    },
    {
      "cell_type": "code",
      "source": [
        "soup = BeautifulSoup(response, \"html.parser\")"
      ],
      "metadata": {
        "id": "2c9Uhh2ryW5g"
      },
      "execution_count": 6,
      "outputs": []
    },
    {
      "cell_type": "code",
      "source": [
        "ol = soup.find(\"ol\")\n"
      ],
      "metadata": {
        "id": "Jvei7jLS0TL1"
      },
      "execution_count": 7,
      "outputs": []
    },
    {
      "cell_type": "code",
      "source": [
        "articles = ol.find_all('article', class_ = 'product_pod')"
      ],
      "metadata": {
        "id": "0lH-MTICMlp8"
      },
      "execution_count": 8,
      "outputs": []
    },
    {
      "cell_type": "code",
      "source": [
        "for article in articles:\n",
        "  image = article.find('img')\n",
        "  title = image.attrs['alt']\n",
        "  star = article.find('p')\n",
        "  star = star['class'][1]\n",
        "  priceDiv = article.find('div', class_ ='product_price')\n",
        "  priceValue = priceDiv.find('p', class_ ='price_color').text\n",
        "  priceValue =  priceValue[1:]\n",
        "  print(priceValue)\n",
        "  #print(str.format(\"Title = {0},  Stars = {1}, price = {2}\", title, star, price[]))\n"
      ],
      "metadata": {
        "colab": {
          "base_uri": "https://localhost:8080/"
        },
        "id": "YkHMzXt_M13i",
        "outputId": "ba9cf27b-0dc7-4b0c-dc00-46e737b2b4c2"
      },
      "execution_count": 18,
      "outputs": [
        {
          "output_type": "stream",
          "name": "stdout",
          "text": [
            "51.77\n",
            "53.74\n",
            "50.10\n",
            "47.82\n",
            "54.23\n",
            "22.65\n",
            "33.34\n",
            "17.93\n",
            "22.60\n",
            "52.15\n",
            "13.99\n",
            "20.66\n",
            "17.46\n",
            "52.29\n",
            "35.02\n",
            "57.25\n",
            "23.88\n",
            "37.59\n",
            "51.33\n",
            "45.17\n"
          ]
        }
      ]
    }
  ]
}