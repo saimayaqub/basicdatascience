{
  "nbformat": 4,
  "nbformat_minor": 0,
  "metadata": {
    "colab": {
      "provenance": [],
      "authorship_tag": "ABX9TyNS75qWUsSO9Wn/kP7FaTjs",
      "include_colab_link": true
    },
    "kernelspec": {
      "name": "python3",
      "display_name": "Python 3"
    },
    "language_info": {
      "name": "python"
    }
  },
  "cells": [
    {
      "cell_type": "markdown",
      "metadata": {
        "id": "view-in-github",
        "colab_type": "text"
      },
      "source": [
        "<a href=\"https://colab.research.google.com/github/saimayaqub/basicdatascience/blob/main/data_scraping_lesson_2_extract_books_data.ipynb\" target=\"_parent\"><img src=\"https://colab.research.google.com/assets/colab-badge.svg\" alt=\"Open In Colab\"/></a>"
      ]
    },
    {
      "cell_type": "code",
      "execution_count": null,
      "metadata": {
        "id": "LtPT3Tw4w7vC"
      },
      "outputs": [],
      "source": [
        "import requests\n"
      ]
    },
    {
      "cell_type": "code",
      "source": [
        "from bs4 import BeautifulSoup"
      ],
      "metadata": {
        "id": "1KRGCk8EzOd4"
      },
      "execution_count": null,
      "outputs": []
    },
    {
      "cell_type": "code",
      "source": [
        "url = \"https://books.toscrape.com/\""
      ],
      "metadata": {
        "id": "Qs1V53YnxT8T"
      },
      "execution_count": null,
      "outputs": []
    },
    {
      "cell_type": "code",
      "source": [
        "response = requests.get(url)"
      ],
      "metadata": {
        "id": "YUH6VYeyxVmR"
      },
      "execution_count": null,
      "outputs": []
    },
    {
      "cell_type": "code",
      "source": [
        "response = response.content"
      ],
      "metadata": {
        "id": "LxPBT-HZxgEh"
      },
      "execution_count": null,
      "outputs": []
    },
    {
      "cell_type": "code",
      "source": [
        "soup = BeautifulSoup(response, \"html.parser\")"
      ],
      "metadata": {
        "id": "2c9Uhh2ryW5g"
      },
      "execution_count": null,
      "outputs": []
    },
    {
      "cell_type": "code",
      "source": [
        "ol = soup.find(\"ol\")\n"
      ],
      "metadata": {
        "id": "Jvei7jLS0TL1"
      },
      "execution_count": null,
      "outputs": []
    },
    {
      "cell_type": "code",
      "source": [
        "articles = ol.find_all('article', class_ = 'product_pod')"
      ],
      "metadata": {
        "id": "0lH-MTICMlp8"
      },
      "execution_count": null,
      "outputs": []
    },
    {
      "cell_type": "code",
      "source": [
        "for article in articles:\n",
        "  image = article.find('img')\n",
        "  title = image.attrs['alt']\n",
        "  star = article.find('p')\n",
        "  star = star['class'][1]\n",
        "  priceDiv = article.find('div', class_ ='product_price')\n",
        "  priceValue = priceDiv.find('p', class_ ='price_color').text\n",
        "  priceValue =  priceValue[1:]\n",
        "  #print(priceValue)\n",
        "  print(str.format(\"Title = {0},  Stars = {1}, price = {2}\", title, star, priceValue))\n"
      ],
      "metadata": {
        "colab": {
          "base_uri": "https://localhost:8080/"
        },
        "id": "YkHMzXt_M13i",
        "outputId": "bfd459b3-93b3-4e38-e29d-4b76d94a5e67"
      },
      "execution_count": null,
      "outputs": [
        {
          "output_type": "stream",
          "name": "stdout",
          "text": [
            "Title = A Light in the Attic,  Stars = Three, price = 51.77\n",
            "Title = Tipping the Velvet,  Stars = One, price = 53.74\n",
            "Title = Soumission,  Stars = One, price = 50.10\n",
            "Title = Sharp Objects,  Stars = Four, price = 47.82\n",
            "Title = Sapiens: A Brief History of Humankind,  Stars = Five, price = 54.23\n",
            "Title = The Requiem Red,  Stars = One, price = 22.65\n",
            "Title = The Dirty Little Secrets of Getting Your Dream Job,  Stars = Four, price = 33.34\n",
            "Title = The Coming Woman: A Novel Based on the Life of the Infamous Feminist, Victoria Woodhull,  Stars = Three, price = 17.93\n",
            "Title = The Boys in the Boat: Nine Americans and Their Epic Quest for Gold at the 1936 Berlin Olympics,  Stars = Four, price = 22.60\n",
            "Title = The Black Maria,  Stars = One, price = 52.15\n",
            "Title = Starving Hearts (Triangular Trade Trilogy, #1),  Stars = Two, price = 13.99\n",
            "Title = Shakespeare's Sonnets,  Stars = Four, price = 20.66\n",
            "Title = Set Me Free,  Stars = Five, price = 17.46\n",
            "Title = Scott Pilgrim's Precious Little Life (Scott Pilgrim #1),  Stars = Five, price = 52.29\n",
            "Title = Rip it Up and Start Again,  Stars = Five, price = 35.02\n",
            "Title = Our Band Could Be Your Life: Scenes from the American Indie Underground, 1981-1991,  Stars = Three, price = 57.25\n",
            "Title = Olio,  Stars = One, price = 23.88\n",
            "Title = Mesaerion: The Best Science Fiction Stories 1800-1849,  Stars = One, price = 37.59\n",
            "Title = Libertarianism for Beginners,  Stars = Two, price = 51.33\n",
            "Title = It's Only the Himalayas,  Stars = Two, price = 45.17\n"
          ]
        }
      ]
    }
  ]
}